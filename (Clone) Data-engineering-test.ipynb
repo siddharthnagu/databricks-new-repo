{
 "cells": [
  {
   "cell_type": "code",
   "execution_count": 0,
   "metadata": {
    "application/vnd.databricks.v1+cell": {
     "cellMetadata": {
      "byteLimit": 2048000,
      "rowLimit": 10000
     },
     "inputWidgets": {},
     "nuid": "0fa4fc4f-616f-4f30-91cc-f3a04ba60ffe",
     "showTitle": false,
     "tableResultSettingsMap": {},
     "title": ""
    }
   },
   "outputs": [],
   "source": [
    "storage_account_name = \"datapipelinechallenge\"\n",
    "container_name = \"raw-data-hier-test\"\n",
    "sas_token = \"sv=2022-11-02&ss=bfqt&srt=co&sp=rwdlacupiytfx&se=2025-03-05T14:46:53Z&st=2025-03-05T06:46:53Z&spr=https&sig=sGGKYOXGq0pd0qXlAVwvbQesA4XAFPvAzAymkxgRJ3s%3D\"  # Generate from Azure Portal\n",
    "\n",
    "# Mount Blob Storage\n",
    "mnt_path = f\"/mnt/{container_name}\"\n",
    "dbutils.fs.mount(\n",
    "    source=f\"wasbs://{container_name}@{storage_account_name}.blob.core.windows.net\",\n",
    "    mount_point=mnt_path,\n",
    "    extra_configs={f\"fs.azure.sas.{container_name}.{storage_account_name}.blob.core.windows.net\": sas_token}\n",
    ")\n",
    "\n",
    "# Verify mount\n",
    "display(dbutils.fs.ls(mnt_path))"
   ]
  },
  {
   "cell_type": "code",
   "execution_count": 0,
   "metadata": {
    "application/vnd.databricks.v1+cell": {
     "cellMetadata": {
      "byteLimit": 2048000,
      "rowLimit": 10000
     },
     "inputWidgets": {},
     "nuid": "0c4fa64e-cb2e-4424-be8e-2a332d3a42a8",
     "showTitle": false,
     "tableResultSettingsMap": {},
     "title": ""
    }
   },
   "outputs": [],
   "source": [
    "display(dbutils.fs.mounts())"
   ]
  },
  {
   "cell_type": "code",
   "execution_count": 0,
   "metadata": {
    "application/vnd.databricks.v1+cell": {
     "cellMetadata": {
      "byteLimit": 2048000,
      "rowLimit": 10000
     },
     "inputWidgets": {},
     "nuid": "4add2c11-b3ec-45e6-a011-f84497e9294f",
     "showTitle": false,
     "tableResultSettingsMap": {},
     "title": ""
    }
   },
   "outputs": [],
   "source": [
    "display(dbutils.fs.ls(f\"/mnt/{container_name}\"))"
   ]
  },
  {
   "cell_type": "code",
   "execution_count": 0,
   "metadata": {
    "application/vnd.databricks.v1+cell": {
     "cellMetadata": {
      "byteLimit": 2048000,
      "rowLimit": 10000
     },
     "inputWidgets": {},
     "nuid": "6a75331d-b979-4aab-8ce3-aeab67750232",
     "showTitle": false,
     "tableResultSettingsMap": {},
     "title": ""
    }
   },
   "outputs": [],
   "source": [
    "import pandas as pd\n",
    "import gzip\n",
    "\n",
    "# Read sample gzip file\n",
    "with gzip.open(\"/Workspace/Users/nagu.siddharth.18ee1138_gmail.com#ext#@nagusiddharth18ee1138gmail.onmicrosoft.com/fact.transactions.dlm.gz\", \"rt\") as f:\n",
    "    df = pd.read_csv(f, delimiter=\"|\")\n",
    "\n",
    "print(df.info())  # Check schema\n",
    "print(df.head())\n"
   ]
  },
  {
   "cell_type": "code",
   "execution_count": 0,
   "metadata": {
    "application/vnd.databricks.v1+cell": {
     "cellMetadata": {
      "byteLimit": 2048000,
      "rowLimit": 10000
     },
     "inputWidgets": {},
     "nuid": "c77f129b-b7f4-4c9d-8f38-91cbe34f3bc0",
     "showTitle": false,
     "tableResultSettingsMap": {},
     "title": ""
    }
   },
   "outputs": [],
   "source": [
    "raw_data_path = \"dbfs:/mnt/raw-data-hier-test/fact.averagecosts.dlm.gz\"\n",
    "files = dbutils.fs.ls(raw_data_path)\n",
    "gz_files = [f.path for f in files if f.path.endswith(\".gz\")]\n",
    "\n",
    "print(\"Gzipped Files Found:\", gz_files)\n"
   ]
  },
  {
   "cell_type": "code",
   "execution_count": 0,
   "metadata": {
    "application/vnd.databricks.v1+cell": {
     "cellMetadata": {
      "byteLimit": 2048000,
      "rowLimit": 10000
     },
     "inputWidgets": {},
     "nuid": "0249eb84-545c-45ca-bd15-9f11f168b641",
     "showTitle": false,
     "tableResultSettingsMap": {},
     "title": ""
    }
   },
   "outputs": [],
   "source": [
    "from pyspark.sql import SparkSession\n",
    "import gzip\n",
    "\n",
    "# Read a single gzipped file\n",
    "file_path = \"dbfs:/mnt/raw-data-hier-test/fact.averagecosts.dlm.gz\"\n",
    "\n",
    "df = (spark.read\n",
    "      .option(\"delimiter\", \"|\")\n",
    "      .option(\"header\", True)\n",
    "      .csv(file_path))\n",
    "\n",
    "df.show() # Primkey -- fscldt_id"
   ]
  },
  {
   "cell_type": "code",
   "execution_count": 0,
   "metadata": {
    "application/vnd.databricks.v1+cell": {
     "cellMetadata": {
      "byteLimit": 2048000,
      "rowLimit": 10000
     },
     "inputWidgets": {},
     "nuid": "3fa03310-68ea-45fc-8f14-f185641c384f",
     "showTitle": false,
     "tableResultSettingsMap": {},
     "title": ""
    }
   },
   "outputs": [],
   "source": [
    "from pyspark.sql import SparkSession\n",
    "import gzip\n",
    "\n",
    "# Read a single gzipped file\n",
    "file_path = \"dbfs:/mnt/raw-data-hier-test/fact.transactions.dlm.gz\"\n",
    "\n",
    "df = (spark.read\n",
    "      .option(\"delimiter\", \"|\")\n",
    "      .option(\"header\", True)\n",
    "      .csv(file_path))\n",
    "\n",
    "df.show()  #prim key -- Sku id"
   ]
  },
  {
   "cell_type": "code",
   "execution_count": 0,
   "metadata": {
    "application/vnd.databricks.v1+cell": {
     "cellMetadata": {
      "byteLimit": 2048000,
      "rowLimit": 10000
     },
     "inputWidgets": {},
     "nuid": "15191a97-33f9-4ad2-821c-d8cde181d703",
     "showTitle": false,
     "tableResultSettingsMap": {},
     "title": ""
    }
   },
   "outputs": [],
   "source": [
    "from pyspark.sql import SparkSession\n",
    "import gzip\n",
    "\n",
    "# Read a single gzipped file\n",
    "file_path = \"dbfs:/mnt/raw-data-hier-test/hier.clnd.dlm.gz\"\n",
    "\n",
    "df = (spark.read\n",
    "      .option(\"delimiter\", \"|\")\n",
    "      .option(\"header\", True)\n",
    "      .csv(file_path))\n",
    "\n",
    "df.show() #primkey fscldt_id"
   ]
  },
  {
   "cell_type": "code",
   "execution_count": 0,
   "metadata": {
    "application/vnd.databricks.v1+cell": {
     "cellMetadata": {
      "byteLimit": 2048000,
      "rowLimit": 10000
     },
     "inputWidgets": {},
     "nuid": "8b15fb96-b48d-457f-8a30-67d2a28d8f20",
     "showTitle": false,
     "tableResultSettingsMap": {},
     "title": ""
    }
   },
   "outputs": [],
   "source": [
    "from pyspark.sql import SparkSession\n",
    "import gzip\n",
    "\n",
    "# Read a single gzipped file\n",
    "file_path = \"dbfs:/mnt/raw-data-hier-test/hier.hldy.dlm.gz\"\n",
    "\n",
    "df = (spark.read\n",
    "      .option(\"delimiter\", \"|\")\n",
    "      .option(\"header\", True)\n",
    "      .csv(file_path))\n",
    "\n",
    "df.show() # prim key - hldy_id"
   ]
  },
  {
   "cell_type": "code",
   "execution_count": 0,
   "metadata": {
    "application/vnd.databricks.v1+cell": {
     "cellMetadata": {
      "byteLimit": 2048000,
      "rowLimit": 10000
     },
     "inputWidgets": {},
     "nuid": "90ec81e6-a0f7-428e-ad5a-7c248e678356",
     "showTitle": false,
     "tableResultSettingsMap": {},
     "title": ""
    }
   },
   "outputs": [],
   "source": [
    "from pyspark.sql import SparkSession\n",
    "import gzip\n",
    "\n",
    "# Read a single gzipped file\n",
    "file_path = \"dbfs:/mnt/raw-data-hier-test/hier.invloc.dlm.gz\"\n",
    "\n",
    "df = (spark.read\n",
    "      .option(\"delimiter\", \"|\")\n",
    "      .option(\"header\", True)\n",
    "      .csv(file_path))\n",
    "\n",
    "df.show() #prim key loc"
   ]
  },
  {
   "cell_type": "code",
   "execution_count": 0,
   "metadata": {
    "application/vnd.databricks.v1+cell": {
     "cellMetadata": {
      "byteLimit": 2048000,
      "rowLimit": 10000
     },
     "inputWidgets": {},
     "nuid": "4f5bb497-4bf4-4ba5-a1b6-cb7364884388",
     "showTitle": false,
     "tableResultSettingsMap": {},
     "title": ""
    }
   },
   "outputs": [],
   "source": [
    "from pyspark.sql import SparkSession\n",
    "import gzip\n",
    "\n",
    "# Read a single gzipped file\n",
    "file_path = \"dbfs:/mnt/raw-data-hier-test/hier.invstatus.dlm.gz\"\n",
    "\n",
    "df = (spark.read\n",
    "      .option(\"delimiter\", \"|\")\n",
    "      .option(\"header\", True)\n",
    "      .csv(file_path))\n",
    "\n",
    "df.show() # prim key code_id"
   ]
  },
  {
   "cell_type": "code",
   "execution_count": 0,
   "metadata": {
    "application/vnd.databricks.v1+cell": {
     "cellMetadata": {
      "byteLimit": 2048000,
      "rowLimit": 10000
     },
     "inputWidgets": {},
     "nuid": "f87a53c1-737d-441c-b95d-57514dcbc29d",
     "showTitle": false,
     "tableResultSettingsMap": {},
     "title": ""
    }
   },
   "outputs": [],
   "source": [
    "from pyspark.sql import SparkSession\n",
    "import gzip\n",
    "\n",
    "# Read a single gzipped file\n",
    "file_path = \"dbfs:/mnt/raw-data-hier-test/hier.possite.dlm.gz\"\n",
    "\n",
    "df = (spark.read\n",
    "      .option(\"delimiter\", \"|\")\n",
    "      .option(\"header\", True)\n",
    "      .csv(file_path))\n",
    "\n",
    "df.show() #site_id"
   ]
  },
  {
   "cell_type": "code",
   "execution_count": 0,
   "metadata": {
    "application/vnd.databricks.v1+cell": {
     "cellMetadata": {
      "byteLimit": 2048000,
      "rowLimit": 10000
     },
     "inputWidgets": {},
     "nuid": "fc60f238-cd8c-4aba-8765-125e15ff64f0",
     "showTitle": false,
     "tableResultSettingsMap": {},
     "title": ""
    }
   },
   "outputs": [],
   "source": [
    "from pyspark.sql import SparkSession\n",
    "import gzip\n",
    "\n",
    "# Read a single gzipped file\n",
    "file_path = \"dbfs:/mnt/raw-data-hier-test/hier.pricestate.dlm.gz\"\n",
    "\n",
    "df = (spark.read\n",
    "      .option(\"delimiter\", \"|\")\n",
    "      .option(\"header\", True)\n",
    "      .csv(file_path))\n",
    "\n",
    "df.show()  #substate_id"
   ]
  },
  {
   "cell_type": "code",
   "execution_count": 0,
   "metadata": {
    "application/vnd.databricks.v1+cell": {
     "cellMetadata": {
      "byteLimit": 2048000,
      "rowLimit": 10000
     },
     "inputWidgets": {},
     "nuid": "9b8a4d54-d6d7-4bfb-9d66-19e703f03556",
     "showTitle": false,
     "tableResultSettingsMap": {},
     "title": ""
    }
   },
   "outputs": [],
   "source": [
    "from pyspark.sql import SparkSession\n",
    "import gzip\n",
    "\n",
    "# Read a single gzipped file\n",
    "file_path = \"dbfs:/mnt/raw-data-hier-test/hier.prod.dlm.gz\"\n",
    "\n",
    "df = (spark.read\n",
    "      .option(\"delimiter\", \"|\")\n",
    "      .option(\"header\", True)\n",
    "      .csv(file_path))\n",
    "df.show() #sku_id"
   ]
  },
  {
   "cell_type": "code",
   "execution_count": 0,
   "metadata": {
    "application/vnd.databricks.v1+cell": {
     "cellMetadata": {
      "byteLimit": 2048000,
      "rowLimit": 10000
     },
     "inputWidgets": {},
     "nuid": "84d97c55-e9c3-4397-b2ca-61b401f88c5f",
     "showTitle": false,
     "tableResultSettingsMap": {},
     "title": ""
    }
   },
   "outputs": [],
   "source": [
    "from pyspark.sql import SparkSession\n",
    "import gzip\n",
    "\n",
    "# Read a single gzipped file\n",
    "file_path = \"dbfs:/mnt/raw-data-hier-test/hier.rtlloc.dlm.gz\"\n",
    "\n",
    "df = (spark.read\n",
    "      .option(\"delimiter\", \"|\")\n",
    "      .option(\"header\", True)\n",
    "      .csv(file_path))\n",
    "df.show()  # prim key-str"
   ]
  },
  {
   "cell_type": "code",
   "execution_count": 0,
   "metadata": {
    "application/vnd.databricks.v1+cell": {
     "cellMetadata": {
      "byteLimit": 2048000,
      "implicitDf": true,
      "rowLimit": 10000
     },
     "inputWidgets": {},
     "nuid": "b699e774-b34f-4f67-9312-6f33642cf4d1",
     "showTitle": false,
     "tableResultSettingsMap": {},
     "title": ""
    }
   },
   "outputs": [],
   "source": [
    "%sql\n",
    "CREATE MATERIALIZED VIEW mview_weekly_sales AS\n",
    "SELECT \n",
    "    pos_site_id, \n",
    "    sku_id, \n",
    "    fsclwk_id, \n",
    "    price_substate_id, \n",
    "    type,\n",
    "    SUM(sales_units) AS total_sales_units,\n",
    "    SUM(sales_dollars) AS total_sales_dollars,\n",
    "    SUM(discount_dollars) AS total_discount_dollars\n",
    "FROM fact_sales\n",
    "GROUP BY pos_site_id, sku_id, fsclwk_id, price_substate_id, type;"
   ]
  }
 ],
 "metadata": {
  "application/vnd.databricks.v1+notebook": {
   "computePreferences": null,
   "dashboards": [],
   "environmentMetadata": {
    "base_environment": "",
    "environment_version": "2"
   },
   "language": "python",
   "notebookMetadata": {
    "mostRecentlyExecutedCommandWithImplicitDF": {
     "commandId": 7794952843950768,
     "dataframes": [
      "_sqldf"
     ]
    },
    "pythonIndentUnit": 4
   },
   "notebookName": "(Clone) Data-engineering-test",
   "widgets": {}
  },
  "language_info": {
   "name": "python"
  }
 },
 "nbformat": 4,
 "nbformat_minor": 0
}
